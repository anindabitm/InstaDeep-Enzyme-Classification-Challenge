{
  "nbformat": 4,
  "nbformat_minor": 0,
  "metadata": {
    "colab": {
      "name": "Making-folds.ipynb",
      "provenance": [],
      "collapsed_sections": [],
      "authorship_tag": "ABX9TyNMqr3zr7g4L6PknTWOMgSw",
      "include_colab_link": true
    },
    "kernelspec": {
      "display_name": "Python 3",
      "name": "python3"
    }
  },
  "cells": [
    {
      "cell_type": "markdown",
      "metadata": {
        "id": "view-in-github",
        "colab_type": "text"
      },
      "source": [
        "<a href=\"https://colab.research.google.com/github/anindabitm/InstaDeep-Enzyme-Classification-Challenge/blob/main/Making_folds.ipynb\" target=\"_parent\"><img src=\"https://colab.research.google.com/assets/colab-badge.svg\" alt=\"Open In Colab\"/></a>"
      ]
    },
    {
      "cell_type": "code",
      "metadata": {
        "colab": {
          "base_uri": "https://localhost:8080/"
        },
        "id": "qPLXLIBvHU5z",
        "outputId": "9b468155-68eb-4217-9b3f-255ce70581c9"
      },
      "source": [
        "from google.colab import drive\n",
        "drive.mount('/content/drive')"
      ],
      "execution_count": null,
      "outputs": [
        {
          "output_type": "stream",
          "text": [
            "Mounted at /content/drive\n"
          ],
          "name": "stdout"
        }
      ]
    },
    {
      "cell_type": "code",
      "metadata": {
        "id": "abhWKGJO_NX2"
      },
      "source": [
        "import re\n",
        "import os\n",
        "import gc\n",
        "import pandas as pd\n",
        "import numpy as np\n",
        "from sklearn.preprocessing import LabelEncoder\n",
        "import pickle\n",
        "from sklearn.model_selection import train_test_split,StratifiedKFold"
      ],
      "execution_count": null,
      "outputs": []
    },
    {
      "cell_type": "code",
      "metadata": {
        "id": "Emvq2Qxu2QK6"
      },
      "source": [
        "import os\n",
        "os.chdir('/content/drive/My Drive/instadeep')"
      ],
      "execution_count": null,
      "outputs": []
    },
    {
      "cell_type": "markdown",
      "metadata": {
        "id": "gjioqObyv7v8"
      },
      "source": [
        "# Creating Folds"
      ]
    },
    {
      "cell_type": "code",
      "metadata": {
        "colab": {
          "base_uri": "https://localhost:8080/"
        },
        "id": "USpX26C82ZlY",
        "outputId": "4ee76c0d-9359-411d-af46-de371ef42e53"
      },
      "source": [
        "train = pd.read_csv('Train.csv')\n",
        "train.shape"
      ],
      "execution_count": null,
      "outputs": [
        {
          "output_type": "execute_result",
          "data": {
            "text/plain": [
              "(858777, 4)"
            ]
          },
          "metadata": {
            "tags": []
          },
          "execution_count": 5
        }
      ]
    },
    {
      "cell_type": "code",
      "metadata": {
        "colab": {
          "base_uri": "https://localhost:8080/",
          "height": 204
        },
        "id": "DA5tfp5tuhpH",
        "outputId": "d1636111-d803-484d-9e60-e25cb2be2f65"
      },
      "source": [
        "skfold = StratifiedKFold(n_splits=5)\r\n",
        "train['fold'] = -1\r\n",
        "\r\n",
        "for f,(train_index,test_index) in enumerate(skfold.split(train,train.LABEL.values)):\r\n",
        "  train.loc[test_index,'fold'] = f + 1\r\n",
        "\r\n",
        "train.head()"
      ],
      "execution_count": null,
      "outputs": [
        {
          "output_type": "execute_result",
          "data": {
            "text/html": [
              "<div>\n",
              "<style scoped>\n",
              "    .dataframe tbody tr th:only-of-type {\n",
              "        vertical-align: middle;\n",
              "    }\n",
              "\n",
              "    .dataframe tbody tr th {\n",
              "        vertical-align: top;\n",
              "    }\n",
              "\n",
              "    .dataframe thead th {\n",
              "        text-align: right;\n",
              "    }\n",
              "</style>\n",
              "<table border=\"1\" class=\"dataframe\">\n",
              "  <thead>\n",
              "    <tr style=\"text-align: right;\">\n",
              "      <th></th>\n",
              "      <th>SEQUENCE_ID</th>\n",
              "      <th>SEQUENCE</th>\n",
              "      <th>CREATURE</th>\n",
              "      <th>LABEL</th>\n",
              "      <th>fold</th>\n",
              "    </tr>\n",
              "  </thead>\n",
              "  <tbody>\n",
              "    <tr>\n",
              "      <th>0</th>\n",
              "      <td>00011UBJ</td>\n",
              "      <td>MPWQELSITVPHEYVEPISYLFGRYGKGVSTELAGNGQVLLRTYLT...</td>\n",
              "      <td>creature9</td>\n",
              "      <td>class11</td>\n",
              "      <td>1</td>\n",
              "    </tr>\n",
              "    <tr>\n",
              "      <th>1</th>\n",
              "      <td>0001HZ3P</td>\n",
              "      <td>MGKLVIGSRGSELALWQANHIKERLKKECLIESEIQIVKTKGDKIL...</td>\n",
              "      <td>creature3</td>\n",
              "      <td>class13</td>\n",
              "      <td>1</td>\n",
              "    </tr>\n",
              "    <tr>\n",
              "      <th>2</th>\n",
              "      <td>0003NJDO</td>\n",
              "      <td>MFIVAVLMLAFLIFVHELGHFTIARICGVKVEVFSIGFGKKLCFFK...</td>\n",
              "      <td>creature3</td>\n",
              "      <td>class16</td>\n",
              "      <td>1</td>\n",
              "    </tr>\n",
              "    <tr>\n",
              "      <th>3</th>\n",
              "      <td>0003XVE3</td>\n",
              "      <td>MKNTSLSTTLTMNDTIAAIATPLGKGAISIIKISGHNALNILKQLT...</td>\n",
              "      <td>creature3</td>\n",
              "      <td>class12</td>\n",
              "      <td>1</td>\n",
              "    </tr>\n",
              "    <tr>\n",
              "      <th>4</th>\n",
              "      <td>00049BS0</td>\n",
              "      <td>MGNRLTKIYTKTGDSGLTGLADGSRTEKDSLRIFVIGDVDELNSLL...</td>\n",
              "      <td>creature8</td>\n",
              "      <td>class13</td>\n",
              "      <td>1</td>\n",
              "    </tr>\n",
              "  </tbody>\n",
              "</table>\n",
              "</div>"
            ],
            "text/plain": [
              "  SEQUENCE_ID                                           SEQUENCE  ...    LABEL fold\n",
              "0    00011UBJ  MPWQELSITVPHEYVEPISYLFGRYGKGVSTELAGNGQVLLRTYLT...  ...  class11    1\n",
              "1    0001HZ3P  MGKLVIGSRGSELALWQANHIKERLKKECLIESEIQIVKTKGDKIL...  ...  class13    1\n",
              "2    0003NJDO  MFIVAVLMLAFLIFVHELGHFTIARICGVKVEVFSIGFGKKLCFFK...  ...  class16    1\n",
              "3    0003XVE3  MKNTSLSTTLTMNDTIAAIATPLGKGAISIIKISGHNALNILKQLT...  ...  class12    1\n",
              "4    00049BS0  MGNRLTKIYTKTGDSGLTGLADGSRTEKDSLRIFVIGDVDELNSLL...  ...  class13    1\n",
              "\n",
              "[5 rows x 5 columns]"
            ]
          },
          "metadata": {
            "tags": []
          },
          "execution_count": 8
        }
      ]
    },
    {
      "cell_type": "code",
      "metadata": {
        "id": "9f_u3Z9vvdfB"
      },
      "source": [
        "train.to_csv('Train1.csv',index=False)"
      ],
      "execution_count": null,
      "outputs": []
    }
  ]
}