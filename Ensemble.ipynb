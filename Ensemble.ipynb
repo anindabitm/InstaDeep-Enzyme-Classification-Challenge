{
  "nbformat": 4,
  "nbformat_minor": 0,
  "metadata": {
    "colab": {
      "name": "Ensemble.ipynb",
      "provenance": [],
      "collapsed_sections": [],
      "authorship_tag": "ABX9TyOfVyP9+g64rhaoUgovvF74",
      "include_colab_link": true
    },
    "kernelspec": {
      "display_name": "Python 3",
      "name": "python3"
    }
  },
  "cells": [
    {
      "cell_type": "markdown",
      "metadata": {
        "id": "view-in-github",
        "colab_type": "text"
      },
      "source": [
        "<a href=\"https://colab.research.google.com/github/anindabitm/InstaDeep-Enzyme-Classification-Challenge/blob/main/Ensemble.ipynb\" target=\"_parent\"><img src=\"https://colab.research.google.com/assets/colab-badge.svg\" alt=\"Open In Colab\"/></a>"
      ]
    },
    {
      "cell_type": "code",
      "metadata": {
        "colab": {
          "base_uri": "https://localhost:8080/"
        },
        "id": "qPLXLIBvHU5z",
        "outputId": "9b468155-68eb-4217-9b3f-255ce70581c9"
      },
      "source": [
        "from google.colab import drive\n",
        "drive.mount('/content/drive')"
      ],
      "execution_count": null,
      "outputs": [
        {
          "output_type": "stream",
          "text": [
            "Mounted at /content/drive\n"
          ],
          "name": "stdout"
        }
      ]
    },
    {
      "cell_type": "code",
      "metadata": {
        "id": "abhWKGJO_NX2"
      },
      "source": [
        "import re\n",
        "import os\n",
        "import gc\n",
        "import pandas as pd\n",
        "import numpy as np\n",
        "from sklearn.preprocessing import LabelEncoder\n",
        "import pickle\n",
        "from sklearn.model_selection import train_test_split,StratifiedKFold\n",
        "import tensorflow as tf\n",
        "from tensorflow import keras\n",
        "from tensorflow.keras import layers\n",
        "from keras.regularizers import l2\n",
        "from keras.preprocessing.text import Tokenizer\n",
        "from keras.preprocessing.sequence import pad_sequences\n",
        "from keras.utils import to_categorical,plot_model\n",
        "from keras.layers import Dense, Input, GlobalMaxPooling1D,Layer,GlobalAveragePooling1D\n",
        "from keras.layers import Conv1D, MaxPooling1D, Embedding, LSTM,Input,Bidirectional,Dropout,Add,BatchNormalization,Activation,Flatten,Attention,Concatenate\n",
        "from keras.models import Model, Sequential\n",
        "from keras.initializers import Constant\n",
        "from keras import metrics,layers"
      ],
      "execution_count": null,
      "outputs": []
    },
    {
      "cell_type": "code",
      "metadata": {
        "id": "Emvq2Qxu2QK6"
      },
      "source": [
        "import os\n",
        "os.chdir('/content/drive/My Drive/instadeep')"
      ],
      "execution_count": null,
      "outputs": []
    },
    {
      "cell_type": "markdown",
      "metadata": {
        "id": "CevHinuv5m-g"
      },
      "source": [
        "# Prediction"
      ]
    },
    {
      "cell_type": "code",
      "metadata": {
        "colab": {
          "base_uri": "https://localhost:8080/",
          "height": 221
        },
        "id": "qka0emGz57N8",
        "outputId": "2f11689d-2bcb-417a-ca3d-8e7b1f4048f7"
      },
      "source": [
        "test = pd.read_csv('Test.csv')\r\n",
        "print(test.shape)\r\n",
        "test.head()"
      ],
      "execution_count": null,
      "outputs": [
        {
          "output_type": "stream",
          "text": [
            "(253146, 3)\n"
          ],
          "name": "stdout"
        },
        {
          "output_type": "execute_result",
          "data": {
            "text/html": [
              "<div>\n",
              "<style scoped>\n",
              "    .dataframe tbody tr th:only-of-type {\n",
              "        vertical-align: middle;\n",
              "    }\n",
              "\n",
              "    .dataframe tbody tr th {\n",
              "        vertical-align: top;\n",
              "    }\n",
              "\n",
              "    .dataframe thead th {\n",
              "        text-align: right;\n",
              "    }\n",
              "</style>\n",
              "<table border=\"1\" class=\"dataframe\">\n",
              "  <thead>\n",
              "    <tr style=\"text-align: right;\">\n",
              "      <th></th>\n",
              "      <th>SEQUENCE_ID</th>\n",
              "      <th>SEQUENCE</th>\n",
              "      <th>CREATURE</th>\n",
              "    </tr>\n",
              "  </thead>\n",
              "  <tbody>\n",
              "    <tr>\n",
              "      <th>0</th>\n",
              "      <td>000LRRAI</td>\n",
              "      <td>MKLPVKRYAVAAIVALGVSMAPGELRTSPEAQIKIATREECRATPY...</td>\n",
              "      <td>creature7</td>\n",
              "    </tr>\n",
              "    <tr>\n",
              "      <th>1</th>\n",
              "      <td>000O8L4W</td>\n",
              "      <td>MKISVFGSGYVGLVQAAVLAEVGHDVVCMDIDKVKVEQLSQGQVHI...</td>\n",
              "      <td>creature6</td>\n",
              "    </tr>\n",
              "    <tr>\n",
              "      <th>2</th>\n",
              "      <td>000UKB5J</td>\n",
              "      <td>MTMKVGFIGLGIMGKPMSKNLLKAGYSLVVADRNPEAIADVIAAGA...</td>\n",
              "      <td>creature7</td>\n",
              "    </tr>\n",
              "    <tr>\n",
              "      <th>3</th>\n",
              "      <td>00111SLH</td>\n",
              "      <td>MTVSLSRLERQLGYTFKDQELMILALTHRSFAGRNNERLEFLGDAI...</td>\n",
              "      <td>creature6</td>\n",
              "    </tr>\n",
              "    <tr>\n",
              "      <th>4</th>\n",
              "      <td>001ELB0A</td>\n",
              "      <td>MSKIRVLSVDDSALMRQIMTEIINSHSDMEMVATAPDPLVARDLIK...</td>\n",
              "      <td>creature7</td>\n",
              "    </tr>\n",
              "  </tbody>\n",
              "</table>\n",
              "</div>"
            ],
            "text/plain": [
              "  SEQUENCE_ID                                           SEQUENCE   CREATURE\n",
              "0    000LRRAI  MKLPVKRYAVAAIVALGVSMAPGELRTSPEAQIKIATREECRATPY...  creature7\n",
              "1    000O8L4W  MKISVFGSGYVGLVQAAVLAEVGHDVVCMDIDKVKVEQLSQGQVHI...  creature6\n",
              "2    000UKB5J  MTMKVGFIGLGIMGKPMSKNLLKAGYSLVVADRNPEAIADVIAAGA...  creature7\n",
              "3    00111SLH  MTVSLSRLERQLGYTFKDQELMILALTHRSFAGRNNERLEFLGDAI...  creature6\n",
              "4    001ELB0A  MSKIRVLSVDDSALMRQIMTEIINSHSDMEMVATAPDPLVARDLIK...  creature7"
            ]
          },
          "metadata": {
            "tags": []
          },
          "execution_count": 4
        }
      ]
    },
    {
      "cell_type": "code",
      "metadata": {
        "colab": {
          "base_uri": "https://localhost:8080/",
          "height": 204
        },
        "id": "A38j4kRN6L-i",
        "outputId": "3527c3bc-2033-4ef6-f0b6-d73af07e72ad"
      },
      "source": [
        "ss = pd.read_csv('SampleSubmission.csv')\r\n",
        "ss.head()"
      ],
      "execution_count": null,
      "outputs": [
        {
          "output_type": "execute_result",
          "data": {
            "text/html": [
              "<div>\n",
              "<style scoped>\n",
              "    .dataframe tbody tr th:only-of-type {\n",
              "        vertical-align: middle;\n",
              "    }\n",
              "\n",
              "    .dataframe tbody tr th {\n",
              "        vertical-align: top;\n",
              "    }\n",
              "\n",
              "    .dataframe thead th {\n",
              "        text-align: right;\n",
              "    }\n",
              "</style>\n",
              "<table border=\"1\" class=\"dataframe\">\n",
              "  <thead>\n",
              "    <tr style=\"text-align: right;\">\n",
              "      <th></th>\n",
              "      <th>SEQUENCE_ID</th>\n",
              "      <th>LABEL</th>\n",
              "    </tr>\n",
              "  </thead>\n",
              "  <tbody>\n",
              "    <tr>\n",
              "      <th>0</th>\n",
              "      <td>000LRRAI</td>\n",
              "      <td>NaN</td>\n",
              "    </tr>\n",
              "    <tr>\n",
              "      <th>1</th>\n",
              "      <td>000O8L4W</td>\n",
              "      <td>NaN</td>\n",
              "    </tr>\n",
              "    <tr>\n",
              "      <th>2</th>\n",
              "      <td>000UKB5J</td>\n",
              "      <td>NaN</td>\n",
              "    </tr>\n",
              "    <tr>\n",
              "      <th>3</th>\n",
              "      <td>00111SLH</td>\n",
              "      <td>NaN</td>\n",
              "    </tr>\n",
              "    <tr>\n",
              "      <th>4</th>\n",
              "      <td>001ELB0A</td>\n",
              "      <td>NaN</td>\n",
              "    </tr>\n",
              "  </tbody>\n",
              "</table>\n",
              "</div>"
            ],
            "text/plain": [
              "  SEQUENCE_ID  LABEL\n",
              "0    000LRRAI    NaN\n",
              "1    000O8L4W    NaN\n",
              "2    000UKB5J    NaN\n",
              "3    00111SLH    NaN\n",
              "4    001ELB0A    NaN"
            ]
          },
          "metadata": {
            "tags": []
          },
          "execution_count": 5
        }
      ]
    },
    {
      "cell_type": "code",
      "metadata": {
        "id": "9BSovejI8Td0"
      },
      "source": [
        "fold1 = pd.read_csv('preds_fold_post1.csv')\r\n",
        "fold2 = pd.read_csv('preds_fold_post2.csv')\r\n",
        "fold3 = pd.read_csv('preds_fold_post3.csv')\r\n",
        "fold4 = pd.read_csv('preds_fold_post4.csv')\r\n",
        "fold5 = pd.read_csv('preds_fold_post5.csv')"
      ],
      "execution_count": null,
      "outputs": []
    },
    {
      "cell_type": "code",
      "metadata": {
        "id": "bySgWFL-dJDS"
      },
      "source": [
        "fold6 = pd.read_csv('preds_fold1.csv')\r\n",
        "fold7 = pd.read_csv('preds_fold2.csv')\r\n",
        "fold8 = pd.read_csv('preds_fold3.csv')\r\n",
        "fold9 = pd.read_csv('preds_fold4.csv')\r\n",
        "fold10 = pd.read_csv('preds_fold5.csv')"
      ],
      "execution_count": null,
      "outputs": []
    },
    {
      "cell_type": "code",
      "metadata": {
        "colab": {
          "base_uri": "https://localhost:8080/"
        },
        "id": "KeswKRXMAEY5",
        "outputId": "2941551e-df3b-4ecc-e090-8a58e2564208"
      },
      "source": [
        "preds = (fold1.values + fold2.values + fold3.values + fold4.values + fold5.values + fold6.values + fold7.values + fold8.values + fold9.values + fold10.values) / 10\r\n",
        "preds.shape"
      ],
      "execution_count": null,
      "outputs": [
        {
          "output_type": "execute_result",
          "data": {
            "text/plain": [
              "(253146, 20)"
            ]
          },
          "metadata": {
            "tags": []
          },
          "execution_count": 8
        }
      ]
    },
    {
      "cell_type": "code",
      "metadata": {
        "colab": {
          "base_uri": "https://localhost:8080/",
          "height": 309
        },
        "id": "32I0z07NAxm-",
        "outputId": "babd470d-4a2f-40af-cf87-7af66a3e70ba"
      },
      "source": [
        "fold1.head()"
      ],
      "execution_count": null,
      "outputs": [
        {
          "output_type": "execute_result",
          "data": {
            "text/html": [
              "<div>\n",
              "<style scoped>\n",
              "    .dataframe tbody tr th:only-of-type {\n",
              "        vertical-align: middle;\n",
              "    }\n",
              "\n",
              "    .dataframe tbody tr th {\n",
              "        vertical-align: top;\n",
              "    }\n",
              "\n",
              "    .dataframe thead th {\n",
              "        text-align: right;\n",
              "    }\n",
              "</style>\n",
              "<table border=\"1\" class=\"dataframe\">\n",
              "  <thead>\n",
              "    <tr style=\"text-align: right;\">\n",
              "      <th></th>\n",
              "      <th>class0</th>\n",
              "      <th>class1</th>\n",
              "      <th>class10</th>\n",
              "      <th>class11</th>\n",
              "      <th>class12</th>\n",
              "      <th>class13</th>\n",
              "      <th>class14</th>\n",
              "      <th>class15</th>\n",
              "      <th>class16</th>\n",
              "      <th>class17</th>\n",
              "      <th>class18</th>\n",
              "      <th>class19</th>\n",
              "      <th>class2</th>\n",
              "      <th>class3</th>\n",
              "      <th>class4</th>\n",
              "      <th>class5</th>\n",
              "      <th>class6</th>\n",
              "      <th>class7</th>\n",
              "      <th>class8</th>\n",
              "      <th>class9</th>\n",
              "    </tr>\n",
              "  </thead>\n",
              "  <tbody>\n",
              "    <tr>\n",
              "      <th>0</th>\n",
              "      <td>2.726249e-02</td>\n",
              "      <td>1.093769e-02</td>\n",
              "      <td>3.534976e-03</td>\n",
              "      <td>1.767846e-03</td>\n",
              "      <td>1.862114e-02</td>\n",
              "      <td>1.251565e-03</td>\n",
              "      <td>3.165647e-02</td>\n",
              "      <td>2.017071e-01</td>\n",
              "      <td>3.042502e-01</td>\n",
              "      <td>3.489207e-02</td>\n",
              "      <td>2.432621e-01</td>\n",
              "      <td>2.245329e-02</td>\n",
              "      <td>2.102200e-02</td>\n",
              "      <td>2.422503e-02</td>\n",
              "      <td>3.456001e-03</td>\n",
              "      <td>2.658200e-03</td>\n",
              "      <td>1.670422e-02</td>\n",
              "      <td>1.444645e-02</td>\n",
              "      <td>1.558786e-03</td>\n",
              "      <td>1.433243e-02</td>\n",
              "    </tr>\n",
              "    <tr>\n",
              "      <th>1</th>\n",
              "      <td>3.982104e-11</td>\n",
              "      <td>1.066195e-12</td>\n",
              "      <td>1.000000e+00</td>\n",
              "      <td>1.513120e-12</td>\n",
              "      <td>2.701558e-20</td>\n",
              "      <td>4.265169e-19</td>\n",
              "      <td>1.246119e-21</td>\n",
              "      <td>3.997213e-23</td>\n",
              "      <td>1.091533e-21</td>\n",
              "      <td>2.386199e-18</td>\n",
              "      <td>1.102667e-09</td>\n",
              "      <td>3.695489e-14</td>\n",
              "      <td>1.192601e-22</td>\n",
              "      <td>4.898545e-21</td>\n",
              "      <td>3.073286e-15</td>\n",
              "      <td>1.257261e-24</td>\n",
              "      <td>1.810466e-13</td>\n",
              "      <td>1.110125e-22</td>\n",
              "      <td>1.327048e-12</td>\n",
              "      <td>5.376480e-16</td>\n",
              "    </tr>\n",
              "    <tr>\n",
              "      <th>2</th>\n",
              "      <td>2.168058e-09</td>\n",
              "      <td>6.908419e-10</td>\n",
              "      <td>9.999998e-01</td>\n",
              "      <td>1.346044e-08</td>\n",
              "      <td>1.802721e-15</td>\n",
              "      <td>8.108701e-14</td>\n",
              "      <td>8.235187e-16</td>\n",
              "      <td>1.212314e-16</td>\n",
              "      <td>2.003143e-16</td>\n",
              "      <td>4.159970e-14</td>\n",
              "      <td>2.461315e-07</td>\n",
              "      <td>1.047293e-10</td>\n",
              "      <td>1.881287e-16</td>\n",
              "      <td>3.806080e-15</td>\n",
              "      <td>1.889172e-10</td>\n",
              "      <td>1.791246e-17</td>\n",
              "      <td>4.714472e-10</td>\n",
              "      <td>1.572338e-17</td>\n",
              "      <td>5.648852e-09</td>\n",
              "      <td>4.871569e-12</td>\n",
              "    </tr>\n",
              "    <tr>\n",
              "      <th>3</th>\n",
              "      <td>7.044303e-22</td>\n",
              "      <td>1.060709e-14</td>\n",
              "      <td>3.480702e-18</td>\n",
              "      <td>2.508736e-12</td>\n",
              "      <td>2.101232e-09</td>\n",
              "      <td>4.820266e-17</td>\n",
              "      <td>4.156949e-14</td>\n",
              "      <td>2.747133e-12</td>\n",
              "      <td>1.599468e-14</td>\n",
              "      <td>1.048872e-15</td>\n",
              "      <td>5.450457e-22</td>\n",
              "      <td>7.431514e-12</td>\n",
              "      <td>1.000000e+00</td>\n",
              "      <td>1.594004e-17</td>\n",
              "      <td>2.145262e-14</td>\n",
              "      <td>6.715051e-14</td>\n",
              "      <td>2.112098e-13</td>\n",
              "      <td>3.932519e-22</td>\n",
              "      <td>8.559542e-16</td>\n",
              "      <td>2.799971e-19</td>\n",
              "    </tr>\n",
              "    <tr>\n",
              "      <th>4</th>\n",
              "      <td>6.196568e-26</td>\n",
              "      <td>1.579683e-15</td>\n",
              "      <td>3.603503e-20</td>\n",
              "      <td>6.643421e-13</td>\n",
              "      <td>2.052191e-11</td>\n",
              "      <td>4.245516e-17</td>\n",
              "      <td>2.156184e-15</td>\n",
              "      <td>1.311219e-13</td>\n",
              "      <td>3.416045e-16</td>\n",
              "      <td>3.919691e-18</td>\n",
              "      <td>2.404867e-24</td>\n",
              "      <td>5.006591e-13</td>\n",
              "      <td>1.000000e+00</td>\n",
              "      <td>2.778527e-19</td>\n",
              "      <td>1.532975e-13</td>\n",
              "      <td>8.351987e-17</td>\n",
              "      <td>3.465392e-15</td>\n",
              "      <td>7.701893e-24</td>\n",
              "      <td>7.754078e-18</td>\n",
              "      <td>4.760929e-21</td>\n",
              "    </tr>\n",
              "  </tbody>\n",
              "</table>\n",
              "</div>"
            ],
            "text/plain": [
              "         class0        class1  ...        class8        class9\n",
              "0  2.726249e-02  1.093769e-02  ...  1.558786e-03  1.433243e-02\n",
              "1  3.982104e-11  1.066195e-12  ...  1.327048e-12  5.376480e-16\n",
              "2  2.168058e-09  6.908419e-10  ...  5.648852e-09  4.871569e-12\n",
              "3  7.044303e-22  1.060709e-14  ...  8.559542e-16  2.799971e-19\n",
              "4  6.196568e-26  1.579683e-15  ...  7.754078e-18  4.760929e-21\n",
              "\n",
              "[5 rows x 20 columns]"
            ]
          },
          "metadata": {
            "tags": []
          },
          "execution_count": 21
        }
      ]
    },
    {
      "cell_type": "code",
      "metadata": {
        "colab": {
          "base_uri": "https://localhost:8080/"
        },
        "id": "CNpSU0GwAbEC",
        "outputId": "6966f776-e8f6-4244-a74d-b9b0640a7138"
      },
      "source": [
        "label = np.argmax(preds,axis=-1)\r\n",
        "label.shape"
      ],
      "execution_count": null,
      "outputs": [
        {
          "output_type": "execute_result",
          "data": {
            "text/plain": [
              "(253146,)"
            ]
          },
          "metadata": {
            "tags": []
          },
          "execution_count": 9
        }
      ]
    },
    {
      "cell_type": "code",
      "metadata": {
        "colab": {
          "base_uri": "https://localhost:8080/",
          "height": 204
        },
        "id": "drnYdkfr8_cW",
        "outputId": "ac60d5bb-6b00-4c22-a740-9d1bc2461211"
      },
      "source": [
        "ss['LABEL'] = fold1.columns[label]\r\n",
        "ss.head()"
      ],
      "execution_count": null,
      "outputs": [
        {
          "output_type": "execute_result",
          "data": {
            "text/html": [
              "<div>\n",
              "<style scoped>\n",
              "    .dataframe tbody tr th:only-of-type {\n",
              "        vertical-align: middle;\n",
              "    }\n",
              "\n",
              "    .dataframe tbody tr th {\n",
              "        vertical-align: top;\n",
              "    }\n",
              "\n",
              "    .dataframe thead th {\n",
              "        text-align: right;\n",
              "    }\n",
              "</style>\n",
              "<table border=\"1\" class=\"dataframe\">\n",
              "  <thead>\n",
              "    <tr style=\"text-align: right;\">\n",
              "      <th></th>\n",
              "      <th>SEQUENCE_ID</th>\n",
              "      <th>LABEL</th>\n",
              "    </tr>\n",
              "  </thead>\n",
              "  <tbody>\n",
              "    <tr>\n",
              "      <th>0</th>\n",
              "      <td>000LRRAI</td>\n",
              "      <td>class15</td>\n",
              "    </tr>\n",
              "    <tr>\n",
              "      <th>1</th>\n",
              "      <td>000O8L4W</td>\n",
              "      <td>class10</td>\n",
              "    </tr>\n",
              "    <tr>\n",
              "      <th>2</th>\n",
              "      <td>000UKB5J</td>\n",
              "      <td>class10</td>\n",
              "    </tr>\n",
              "    <tr>\n",
              "      <th>3</th>\n",
              "      <td>00111SLH</td>\n",
              "      <td>class2</td>\n",
              "    </tr>\n",
              "    <tr>\n",
              "      <th>4</th>\n",
              "      <td>001ELB0A</td>\n",
              "      <td>class2</td>\n",
              "    </tr>\n",
              "  </tbody>\n",
              "</table>\n",
              "</div>"
            ],
            "text/plain": [
              "  SEQUENCE_ID    LABEL\n",
              "0    000LRRAI  class15\n",
              "1    000O8L4W  class10\n",
              "2    000UKB5J  class10\n",
              "3    00111SLH   class2\n",
              "4    001ELB0A   class2"
            ]
          },
          "metadata": {
            "tags": []
          },
          "execution_count": 10
        }
      ]
    },
    {
      "cell_type": "code",
      "metadata": {
        "id": "yTkv8HVp9FVP"
      },
      "source": [
        "ss.to_csv('ss_02212021_v1.csv',index=False)"
      ],
      "execution_count": null,
      "outputs": []
    }
  ]
}