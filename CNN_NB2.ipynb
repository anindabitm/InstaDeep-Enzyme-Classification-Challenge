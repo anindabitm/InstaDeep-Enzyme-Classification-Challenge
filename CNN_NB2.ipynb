{
  "nbformat": 4,
  "nbformat_minor": 0,
  "metadata": {
    "colab": {
      "name": "CNN-NB2.ipynb",
      "provenance": [],
      "collapsed_sections": [],
      "authorship_tag": "ABX9TyOZZedDhnxhGm0dUxvBkEdt",
      "include_colab_link": true
    },
    "kernelspec": {
      "display_name": "Python 3",
      "name": "python3"
    }
  },
  "cells": [
    {
      "cell_type": "markdown",
      "metadata": {
        "id": "view-in-github",
        "colab_type": "text"
      },
      "source": [
        "<a href=\"https://colab.research.google.com/github/anindabitm/InstaDeep-Enzyme-Classification-Challenge/blob/main/CNN_NB2.ipynb\" target=\"_parent\"><img src=\"https://colab.research.google.com/assets/colab-badge.svg\" alt=\"Open In Colab\"/></a>"
      ]
    },
    {
      "cell_type": "code",
      "metadata": {
        "colab": {
          "base_uri": "https://localhost:8080/"
        },
        "id": "qPLXLIBvHU5z",
        "outputId": "9b468155-68eb-4217-9b3f-255ce70581c9"
      },
      "source": [
        "from google.colab import drive\n",
        "drive.mount('/content/drive')"
      ],
      "execution_count": null,
      "outputs": [
        {
          "output_type": "stream",
          "text": [
            "Mounted at /content/drive\n"
          ],
          "name": "stdout"
        }
      ]
    },
    {
      "cell_type": "code",
      "metadata": {
        "id": "abhWKGJO_NX2"
      },
      "source": [
        "import re\n",
        "import os\n",
        "import gc\n",
        "import pandas as pd\n",
        "import numpy as np\n",
        "from sklearn.preprocessing import LabelEncoder\n",
        "import pickle\n",
        "from sklearn.model_selection import train_test_split,StratifiedKFold\n",
        "import tensorflow as tf\n",
        "from tensorflow import keras\n",
        "from tensorflow.keras import layers\n",
        "from keras.regularizers import l2\n",
        "from keras.preprocessing.text import Tokenizer\n",
        "from keras.preprocessing.sequence import pad_sequences\n",
        "from keras.utils import to_categorical,plot_model\n",
        "from keras.layers import Dense, Input, GlobalMaxPooling1D,Layer,GlobalAveragePooling1D\n",
        "from keras.layers import Conv1D, MaxPooling1D, Embedding, LSTM,Input,Bidirectional,Dropout,Add,BatchNormalization,Activation,Flatten,Attention,Concatenate\n",
        "from keras.models import Model, Sequential\n",
        "from keras.initializers import Constant\n",
        "from keras import metrics,layers"
      ],
      "execution_count": null,
      "outputs": []
    },
    {
      "cell_type": "code",
      "metadata": {
        "colab": {
          "base_uri": "https://localhost:8080/"
        },
        "id": "V9aN-IittB4i",
        "outputId": "202e069f-ca33-4f08-b981-06fc83173c90"
      },
      "source": [
        "%tensorflow_version 2.x\r\n",
        "print(\"Tensorflow version \" + tf.__version__)\r\n",
        "\r\n",
        "try:\r\n",
        "  tpu = tf.distribute.cluster_resolver.TPUClusterResolver()  # TPU detection\r\n",
        "  print('Running on TPU ', tpu.cluster_spec().as_dict()['worker'])\r\n",
        "except ValueError:\r\n",
        "  raise BaseException('ERROR: Not connected to a TPU runtime; please see the previous cell in this notebook for instructions!')\r\n",
        "\r\n",
        "tf.config.experimental_connect_to_cluster(tpu)\r\n",
        "tf.tpu.experimental.initialize_tpu_system(tpu)\r\n",
        "tpu_strategy = tf.distribute.experimental.TPUStrategy(tpu)"
      ],
      "execution_count": null,
      "outputs": [
        {
          "output_type": "stream",
          "text": [
            "Tensorflow version 2.4.1\n",
            "Running on TPU  ['10.103.97.2:8470']\n",
            "INFO:tensorflow:Initializing the TPU system: grpc://10.103.97.2:8470\n"
          ],
          "name": "stdout"
        },
        {
          "output_type": "stream",
          "text": [
            "INFO:tensorflow:Initializing the TPU system: grpc://10.103.97.2:8470\n"
          ],
          "name": "stderr"
        },
        {
          "output_type": "stream",
          "text": [
            "INFO:tensorflow:Clearing out eager caches\n"
          ],
          "name": "stdout"
        },
        {
          "output_type": "stream",
          "text": [
            "INFO:tensorflow:Clearing out eager caches\n"
          ],
          "name": "stderr"
        },
        {
          "output_type": "stream",
          "text": [
            "INFO:tensorflow:Finished initializing TPU system.\n"
          ],
          "name": "stdout"
        },
        {
          "output_type": "stream",
          "text": [
            "INFO:tensorflow:Finished initializing TPU system.\n",
            "WARNING:absl:`tf.distribute.experimental.TPUStrategy` is deprecated, please use  the non experimental symbol `tf.distribute.TPUStrategy` instead.\n"
          ],
          "name": "stderr"
        },
        {
          "output_type": "stream",
          "text": [
            "INFO:tensorflow:Found TPU system:\n"
          ],
          "name": "stdout"
        },
        {
          "output_type": "stream",
          "text": [
            "INFO:tensorflow:Found TPU system:\n"
          ],
          "name": "stderr"
        },
        {
          "output_type": "stream",
          "text": [
            "INFO:tensorflow:*** Num TPU Cores: 8\n"
          ],
          "name": "stdout"
        },
        {
          "output_type": "stream",
          "text": [
            "INFO:tensorflow:*** Num TPU Cores: 8\n"
          ],
          "name": "stderr"
        },
        {
          "output_type": "stream",
          "text": [
            "INFO:tensorflow:*** Num TPU Workers: 1\n"
          ],
          "name": "stdout"
        },
        {
          "output_type": "stream",
          "text": [
            "INFO:tensorflow:*** Num TPU Workers: 1\n"
          ],
          "name": "stderr"
        },
        {
          "output_type": "stream",
          "text": [
            "INFO:tensorflow:*** Num TPU Cores Per Worker: 8\n"
          ],
          "name": "stdout"
        },
        {
          "output_type": "stream",
          "text": [
            "INFO:tensorflow:*** Num TPU Cores Per Worker: 8\n"
          ],
          "name": "stderr"
        },
        {
          "output_type": "stream",
          "text": [
            "INFO:tensorflow:*** Available Device: _DeviceAttributes(/job:localhost/replica:0/task:0/device:CPU:0, CPU, 0, 0)\n"
          ],
          "name": "stdout"
        },
        {
          "output_type": "stream",
          "text": [
            "INFO:tensorflow:*** Available Device: _DeviceAttributes(/job:localhost/replica:0/task:0/device:CPU:0, CPU, 0, 0)\n"
          ],
          "name": "stderr"
        },
        {
          "output_type": "stream",
          "text": [
            "INFO:tensorflow:*** Available Device: _DeviceAttributes(/job:worker/replica:0/task:0/device:CPU:0, CPU, 0, 0)\n"
          ],
          "name": "stdout"
        },
        {
          "output_type": "stream",
          "text": [
            "INFO:tensorflow:*** Available Device: _DeviceAttributes(/job:worker/replica:0/task:0/device:CPU:0, CPU, 0, 0)\n"
          ],
          "name": "stderr"
        },
        {
          "output_type": "stream",
          "text": [
            "INFO:tensorflow:*** Available Device: _DeviceAttributes(/job:worker/replica:0/task:0/device:TPU:0, TPU, 0, 0)\n"
          ],
          "name": "stdout"
        },
        {
          "output_type": "stream",
          "text": [
            "INFO:tensorflow:*** Available Device: _DeviceAttributes(/job:worker/replica:0/task:0/device:TPU:0, TPU, 0, 0)\n"
          ],
          "name": "stderr"
        },
        {
          "output_type": "stream",
          "text": [
            "INFO:tensorflow:*** Available Device: _DeviceAttributes(/job:worker/replica:0/task:0/device:TPU:1, TPU, 0, 0)\n"
          ],
          "name": "stdout"
        },
        {
          "output_type": "stream",
          "text": [
            "INFO:tensorflow:*** Available Device: _DeviceAttributes(/job:worker/replica:0/task:0/device:TPU:1, TPU, 0, 0)\n"
          ],
          "name": "stderr"
        },
        {
          "output_type": "stream",
          "text": [
            "INFO:tensorflow:*** Available Device: _DeviceAttributes(/job:worker/replica:0/task:0/device:TPU:2, TPU, 0, 0)\n"
          ],
          "name": "stdout"
        },
        {
          "output_type": "stream",
          "text": [
            "INFO:tensorflow:*** Available Device: _DeviceAttributes(/job:worker/replica:0/task:0/device:TPU:2, TPU, 0, 0)\n"
          ],
          "name": "stderr"
        },
        {
          "output_type": "stream",
          "text": [
            "INFO:tensorflow:*** Available Device: _DeviceAttributes(/job:worker/replica:0/task:0/device:TPU:3, TPU, 0, 0)\n"
          ],
          "name": "stdout"
        },
        {
          "output_type": "stream",
          "text": [
            "INFO:tensorflow:*** Available Device: _DeviceAttributes(/job:worker/replica:0/task:0/device:TPU:3, TPU, 0, 0)\n"
          ],
          "name": "stderr"
        },
        {
          "output_type": "stream",
          "text": [
            "INFO:tensorflow:*** Available Device: _DeviceAttributes(/job:worker/replica:0/task:0/device:TPU:4, TPU, 0, 0)\n"
          ],
          "name": "stdout"
        },
        {
          "output_type": "stream",
          "text": [
            "INFO:tensorflow:*** Available Device: _DeviceAttributes(/job:worker/replica:0/task:0/device:TPU:4, TPU, 0, 0)\n"
          ],
          "name": "stderr"
        },
        {
          "output_type": "stream",
          "text": [
            "INFO:tensorflow:*** Available Device: _DeviceAttributes(/job:worker/replica:0/task:0/device:TPU:5, TPU, 0, 0)\n"
          ],
          "name": "stdout"
        },
        {
          "output_type": "stream",
          "text": [
            "INFO:tensorflow:*** Available Device: _DeviceAttributes(/job:worker/replica:0/task:0/device:TPU:5, TPU, 0, 0)\n"
          ],
          "name": "stderr"
        },
        {
          "output_type": "stream",
          "text": [
            "INFO:tensorflow:*** Available Device: _DeviceAttributes(/job:worker/replica:0/task:0/device:TPU:6, TPU, 0, 0)\n"
          ],
          "name": "stdout"
        },
        {
          "output_type": "stream",
          "text": [
            "INFO:tensorflow:*** Available Device: _DeviceAttributes(/job:worker/replica:0/task:0/device:TPU:6, TPU, 0, 0)\n"
          ],
          "name": "stderr"
        },
        {
          "output_type": "stream",
          "text": [
            "INFO:tensorflow:*** Available Device: _DeviceAttributes(/job:worker/replica:0/task:0/device:TPU:7, TPU, 0, 0)\n"
          ],
          "name": "stdout"
        },
        {
          "output_type": "stream",
          "text": [
            "INFO:tensorflow:*** Available Device: _DeviceAttributes(/job:worker/replica:0/task:0/device:TPU:7, TPU, 0, 0)\n"
          ],
          "name": "stderr"
        },
        {
          "output_type": "stream",
          "text": [
            "INFO:tensorflow:*** Available Device: _DeviceAttributes(/job:worker/replica:0/task:0/device:TPU_SYSTEM:0, TPU_SYSTEM, 0, 0)\n"
          ],
          "name": "stdout"
        },
        {
          "output_type": "stream",
          "text": [
            "INFO:tensorflow:*** Available Device: _DeviceAttributes(/job:worker/replica:0/task:0/device:TPU_SYSTEM:0, TPU_SYSTEM, 0, 0)\n"
          ],
          "name": "stderr"
        },
        {
          "output_type": "stream",
          "text": [
            "INFO:tensorflow:*** Available Device: _DeviceAttributes(/job:worker/replica:0/task:0/device:XLA_CPU:0, XLA_CPU, 0, 0)\n"
          ],
          "name": "stdout"
        },
        {
          "output_type": "stream",
          "text": [
            "INFO:tensorflow:*** Available Device: _DeviceAttributes(/job:worker/replica:0/task:0/device:XLA_CPU:0, XLA_CPU, 0, 0)\n"
          ],
          "name": "stderr"
        }
      ]
    },
    {
      "cell_type": "code",
      "metadata": {
        "id": "Emvq2Qxu2QK6"
      },
      "source": [
        "import os\n",
        "os.chdir('/content/drive/My Drive/instadeep')"
      ],
      "execution_count": null,
      "outputs": []
    },
    {
      "cell_type": "markdown",
      "metadata": {
        "id": "MY4rGkDEv__G"
      },
      "source": [
        "# Reading train data"
      ]
    },
    {
      "cell_type": "code",
      "metadata": {
        "colab": {
          "base_uri": "https://localhost:8080/"
        },
        "id": "_2B_v6sdwCo3",
        "outputId": "bb8c61cd-a130-47ac-c397-723f2d887bb1"
      },
      "source": [
        "train = pd.read_csv('Train1.csv')\r\n",
        "train.shape"
      ],
      "execution_count": null,
      "outputs": [
        {
          "output_type": "execute_result",
          "data": {
            "text/plain": [
              "(858777, 5)"
            ]
          },
          "metadata": {
            "tags": []
          },
          "execution_count": 5
        }
      ]
    },
    {
      "cell_type": "code",
      "metadata": {
        "id": "RoRrl0uC7M4T"
      },
      "source": [
        "with open('keras-tokenizer/tokenizer.pickle', 'rb') as handle:\n",
        "    tokenizer = pickle.load(handle)"
      ],
      "execution_count": null,
      "outputs": []
    },
    {
      "cell_type": "code",
      "metadata": {
        "colab": {
          "base_uri": "https://localhost:8080/"
        },
        "id": "k4WUeR2M7GEc",
        "outputId": "5ca54b94-773c-4160-bb09-718a1c1d3c87"
      },
      "source": [
        "train_sequences = tokenizer.texts_to_sequences(train.SEQUENCE.values) #Converting text to a vector of word indexes"
      ],
      "execution_count": null,
      "outputs": [
        {
          "output_type": "stream",
          "text": [
            "Found 24 unique tokens.\n"
          ],
          "name": "stdout"
        }
      ]
    },
    {
      "cell_type": "code",
      "metadata": {
        "id": "OIZ2T7De5Ffg"
      },
      "source": [
        "le = LabelEncoder()\n",
        "train.LABEL = le.fit_transform(train.LABEL.values)"
      ],
      "execution_count": null,
      "outputs": []
    },
    {
      "cell_type": "code",
      "metadata": {
        "id": "JSsCxuUL0Cn2"
      },
      "source": [
        "trainvalid_data2 = pad_sequences(train_sequences, padding='post',truncating='post',maxlen=MAX_SEQUENCE_LENGTH)\n",
        "np.save('trainvalid2',trainvalid_data2)"
      ],
      "execution_count": null,
      "outputs": []
    },
    {
      "cell_type": "code",
      "metadata": {
        "id": "2FIcOy3Z3IsF"
      },
      "source": [
        "trainvalid_data1 = np.load('trainvalid2.npy')\r\n",
        "trainvalid_data2 = np.fliplr(trainvalid_data1)\r\n",
        "trainvalid_labels = train.LABEL.values"
      ],
      "execution_count": null,
      "outputs": []
    },
    {
      "cell_type": "code",
      "metadata": {
        "colab": {
          "base_uri": "https://localhost:8080/"
        },
        "id": "ErTzEKSMfrut",
        "outputId": "6fb4edf9-3927-422e-aa50-240bcacbf831"
      },
      "source": [
        "trainvalid_data1.shape,trainvalid_data2.shape"
      ],
      "execution_count": null,
      "outputs": [
        {
          "output_type": "execute_result",
          "data": {
            "text/plain": [
              "((858777, 512), (858777, 512))"
            ]
          },
          "metadata": {
            "tags": []
          },
          "execution_count": 12
        }
      ]
    },
    {
      "cell_type": "code",
      "metadata": {
        "id": "zDEvfw3kWgDw"
      },
      "source": [
        "def simplemodel():\r\n",
        "  input1 = Input(shape=(512,))\r\n",
        "  input2 = Input(shape=(512,))\r\n",
        "  emb1 = Embedding(25, 50,input_length=512)(input1)\r\n",
        "  emb2 = Embedding(25, 50,input_length=512)(input2)\r\n",
        "  conv1 = Conv1D(4096, 35, activation='relu')(emb1)\r\n",
        "  drop1 = Dropout(0.30)(conv1)\r\n",
        "  pool11 = GlobalMaxPooling1D()(drop1)\r\n",
        "  pool12 = GlobalAveragePooling1D()(drop1)\r\n",
        "  conv2 = Conv1D(4096, 35, activation='relu')(emb2)\r\n",
        "  drop2 = Dropout(0.30)(conv2)\r\n",
        "  pool21 = GlobalMaxPooling1D()(drop2)\r\n",
        "  pool22 = GlobalAveragePooling1D()(drop2)\r\n",
        "  x = Concatenate()([pool11,pool12,pool21,pool22])\r\n",
        "  x = Dense(256, activation='relu')(x)\r\n",
        "  x = Dropout(0.30)(x)\r\n",
        "  x = Dense(128, activation='relu')(x)\r\n",
        "  x = Dropout(0.30)(x)\r\n",
        "  output = Dense(20, activation='softmax')(x)\r\n",
        "  model = Model(inputs=[input1,input2],outputs=output)\r\n",
        "  model.compile(loss=keras.losses.SparseCategoricalCrossentropy(),\r\n",
        "              optimizer='adam',\r\n",
        "              metrics=[keras.metrics.SparseCategoricalAccuracy()])\r\n",
        "  \r\n",
        "  return model"
      ],
      "execution_count": null,
      "outputs": []
    },
    {
      "cell_type": "code",
      "metadata": {
        "id": "srMZ7LKjJvXs"
      },
      "source": [
        "def get_model():\r\n",
        "  with tpu_strategy.scope():\r\n",
        "    # creating the model in the TPUStrategy scope means we will train the model on the TPU\r\n",
        "    model = simplemodel()\r\n",
        "    \r\n",
        "  return model"
      ],
      "execution_count": null,
      "outputs": []
    },
    {
      "cell_type": "markdown",
      "metadata": {
        "id": "CevHinuv5m-g"
      },
      "source": [
        "# Train and Prediction"
      ]
    },
    {
      "cell_type": "code",
      "metadata": {
        "colab": {
          "base_uri": "https://localhost:8080/",
          "height": 221
        },
        "id": "qka0emGz57N8",
        "outputId": "2f11689d-2bcb-417a-ca3d-8e7b1f4048f7"
      },
      "source": [
        "test = pd.read_csv('Test.csv')\r\n",
        "print(test.shape)\r\n",
        "test.head()"
      ],
      "execution_count": null,
      "outputs": [
        {
          "output_type": "stream",
          "text": [
            "(253146, 3)\n"
          ],
          "name": "stdout"
        },
        {
          "output_type": "execute_result",
          "data": {
            "text/html": [
              "<div>\n",
              "<style scoped>\n",
              "    .dataframe tbody tr th:only-of-type {\n",
              "        vertical-align: middle;\n",
              "    }\n",
              "\n",
              "    .dataframe tbody tr th {\n",
              "        vertical-align: top;\n",
              "    }\n",
              "\n",
              "    .dataframe thead th {\n",
              "        text-align: right;\n",
              "    }\n",
              "</style>\n",
              "<table border=\"1\" class=\"dataframe\">\n",
              "  <thead>\n",
              "    <tr style=\"text-align: right;\">\n",
              "      <th></th>\n",
              "      <th>SEQUENCE_ID</th>\n",
              "      <th>SEQUENCE</th>\n",
              "      <th>CREATURE</th>\n",
              "    </tr>\n",
              "  </thead>\n",
              "  <tbody>\n",
              "    <tr>\n",
              "      <th>0</th>\n",
              "      <td>000LRRAI</td>\n",
              "      <td>MKLPVKRYAVAAIVALGVSMAPGELRTSPEAQIKIATREECRATPY...</td>\n",
              "      <td>creature7</td>\n",
              "    </tr>\n",
              "    <tr>\n",
              "      <th>1</th>\n",
              "      <td>000O8L4W</td>\n",
              "      <td>MKISVFGSGYVGLVQAAVLAEVGHDVVCMDIDKVKVEQLSQGQVHI...</td>\n",
              "      <td>creature6</td>\n",
              "    </tr>\n",
              "    <tr>\n",
              "      <th>2</th>\n",
              "      <td>000UKB5J</td>\n",
              "      <td>MTMKVGFIGLGIMGKPMSKNLLKAGYSLVVADRNPEAIADVIAAGA...</td>\n",
              "      <td>creature7</td>\n",
              "    </tr>\n",
              "    <tr>\n",
              "      <th>3</th>\n",
              "      <td>00111SLH</td>\n",
              "      <td>MTVSLSRLERQLGYTFKDQELMILALTHRSFAGRNNERLEFLGDAI...</td>\n",
              "      <td>creature6</td>\n",
              "    </tr>\n",
              "    <tr>\n",
              "      <th>4</th>\n",
              "      <td>001ELB0A</td>\n",
              "      <td>MSKIRVLSVDDSALMRQIMTEIINSHSDMEMVATAPDPLVARDLIK...</td>\n",
              "      <td>creature7</td>\n",
              "    </tr>\n",
              "  </tbody>\n",
              "</table>\n",
              "</div>"
            ],
            "text/plain": [
              "  SEQUENCE_ID                                           SEQUENCE   CREATURE\n",
              "0    000LRRAI  MKLPVKRYAVAAIVALGVSMAPGELRTSPEAQIKIATREECRATPY...  creature7\n",
              "1    000O8L4W  MKISVFGSGYVGLVQAAVLAEVGHDVVCMDIDKVKVEQLSQGQVHI...  creature6\n",
              "2    000UKB5J  MTMKVGFIGLGIMGKPMSKNLLKAGYSLVVADRNPEAIADVIAAGA...  creature7\n",
              "3    00111SLH  MTVSLSRLERQLGYTFKDQELMILALTHRSFAGRNNERLEFLGDAI...  creature6\n",
              "4    001ELB0A  MSKIRVLSVDDSALMRQIMTEIINSHSDMEMVATAPDPLVARDLIK...  creature7"
            ]
          },
          "metadata": {
            "tags": []
          },
          "execution_count": 4
        }
      ]
    },
    {
      "cell_type": "code",
      "metadata": {
        "colab": {
          "base_uri": "https://localhost:8080/",
          "height": 204
        },
        "id": "A38j4kRN6L-i",
        "outputId": "3527c3bc-2033-4ef6-f0b6-d73af07e72ad"
      },
      "source": [
        "ss = pd.read_csv('SampleSubmission.csv')\r\n",
        "ss.head()"
      ],
      "execution_count": null,
      "outputs": [
        {
          "output_type": "execute_result",
          "data": {
            "text/html": [
              "<div>\n",
              "<style scoped>\n",
              "    .dataframe tbody tr th:only-of-type {\n",
              "        vertical-align: middle;\n",
              "    }\n",
              "\n",
              "    .dataframe tbody tr th {\n",
              "        vertical-align: top;\n",
              "    }\n",
              "\n",
              "    .dataframe thead th {\n",
              "        text-align: right;\n",
              "    }\n",
              "</style>\n",
              "<table border=\"1\" class=\"dataframe\">\n",
              "  <thead>\n",
              "    <tr style=\"text-align: right;\">\n",
              "      <th></th>\n",
              "      <th>SEQUENCE_ID</th>\n",
              "      <th>LABEL</th>\n",
              "    </tr>\n",
              "  </thead>\n",
              "  <tbody>\n",
              "    <tr>\n",
              "      <th>0</th>\n",
              "      <td>000LRRAI</td>\n",
              "      <td>NaN</td>\n",
              "    </tr>\n",
              "    <tr>\n",
              "      <th>1</th>\n",
              "      <td>000O8L4W</td>\n",
              "      <td>NaN</td>\n",
              "    </tr>\n",
              "    <tr>\n",
              "      <th>2</th>\n",
              "      <td>000UKB5J</td>\n",
              "      <td>NaN</td>\n",
              "    </tr>\n",
              "    <tr>\n",
              "      <th>3</th>\n",
              "      <td>00111SLH</td>\n",
              "      <td>NaN</td>\n",
              "    </tr>\n",
              "    <tr>\n",
              "      <th>4</th>\n",
              "      <td>001ELB0A</td>\n",
              "      <td>NaN</td>\n",
              "    </tr>\n",
              "  </tbody>\n",
              "</table>\n",
              "</div>"
            ],
            "text/plain": [
              "  SEQUENCE_ID  LABEL\n",
              "0    000LRRAI    NaN\n",
              "1    000O8L4W    NaN\n",
              "2    000UKB5J    NaN\n",
              "3    00111SLH    NaN\n",
              "4    001ELB0A    NaN"
            ]
          },
          "metadata": {
            "tags": []
          },
          "execution_count": 5
        }
      ]
    },
    {
      "cell_type": "code",
      "metadata": {
        "id": "fRPP1T4f6b7y"
      },
      "source": [
        "test_sequences = tokenizer.texts_to_sequences(test.SEQUENCE.values) #Converting text to a vector of word indexes"
      ],
      "execution_count": null,
      "outputs": []
    },
    {
      "cell_type": "code",
      "metadata": {
        "id": "VHVwyiFx6l6N"
      },
      "source": [
        "test_data1 = pad_sequences(test_sequences, maxlen=512,padding='post',truncating='post')\r\n",
        "test_data2 = np.fliplr(test_data1)"
      ],
      "execution_count": null,
      "outputs": []
    },
    {
      "cell_type": "code",
      "metadata": {
        "id": "y68PfFgqqTd4"
      },
      "source": [
        "def run_fold(fold):\r\n",
        "  preds = np.zeros(shape=(test.shape[0],20))\r\n",
        "  checkpoint = tf.keras.callbacks.ModelCheckpoint(f'/content/drive/My Drive/instadeep/keras-model/simplemodel_fold_post_{fold}.h5', monitor='val_loss', mode='min', save_best_only=True)\r\n",
        "  train_index = train[train['fold'] == fold].index\r\n",
        "  test_index =  train[train['fold'] != fold].index\r\n",
        "  x_train1 = trainvalid_data1[train_index]\r\n",
        "  x_train2 = trainvalid_data2[train_index]\r\n",
        "  x_val1 = trainvalid_data1[test_index]\r\n",
        "  x_val2 = trainvalid_data2[test_index]\r\n",
        "  y_train = trainvalid_labels[train_index]\r\n",
        "  y_val = trainvalid_labels[test_index]\r\n",
        "  print(x_train1.shape,x_val1.shape,y_train.shape,y_val.shape)\r\n",
        "  train_dataset = tf.data.Dataset.from_tensor_slices(((x_train1,x_train2),y_train)).shuffle(2048).batch(batch_size).prefetch(AUTO)\r\n",
        "  val_dataset = tf.data.Dataset.from_tensor_slices(((x_val1,x_val2),y_val)).batch(batch_size).prefetch(AUTO)\r\n",
        "  model = get_model()\r\n",
        "  history = model.fit(train_dataset, validation_data=val_dataset, epochs=EPOCH,callbacks=checkpoint)\r\n",
        "  preds += model.predict([test_data1,test_data2])\r\n",
        "  final_preds = pd.DataFrame(data=preds,columns=le.classes_)\r\n",
        "  final_preds.to_csv(f'preds_fold_post{fold}.csv',index=False)\r\n",
        "  del train_dataset,val_dataset,model\r\n",
        "  gc.collect()\r\n"
      ],
      "execution_count": null,
      "outputs": []
    },
    {
      "cell_type": "code",
      "metadata": {
        "id": "GxuFKj4lzepk",
        "colab": {
          "base_uri": "https://localhost:8080/"
        },
        "outputId": "b218bbf5-815e-48df-fb71-774fde82de30"
      },
      "source": [
        "EPOCH = 7\r\n",
        "AUTO = tf.data.experimental.AUTOTUNE\r\n",
        "batch_size = 8 * tpu_strategy.num_replicas_in_sync\r\n",
        "run_fold(1)\r\n",
        "run_fold(2)\r\n",
        "run_fold(3)\r\n",
        "run_fold(4)\r\n",
        "run_fold(5)"
      ],
      "execution_count": null,
      "outputs": [
        {
          "output_type": "stream",
          "text": [
            "(171756, 512) (687021, 512) (171756,) (687021,)\n",
            "Epoch 1/7\n",
            "2684/2684 [==============================] - 431s 156ms/step - loss: 1.3396 - sparse_categorical_accuracy: 0.6030 - val_loss: 0.1620 - val_sparse_categorical_accuracy: 0.9600\n",
            "Epoch 2/7\n",
            "2684/2684 [==============================] - 402s 150ms/step - loss: 0.1777 - sparse_categorical_accuracy: 0.9534 - val_loss: 0.1103 - val_sparse_categorical_accuracy: 0.9711\n",
            "Epoch 3/7\n",
            "2684/2684 [==============================] - 403s 150ms/step - loss: 0.1138 - sparse_categorical_accuracy: 0.9694 - val_loss: 0.0879 - val_sparse_categorical_accuracy: 0.9787\n",
            "Epoch 4/7\n",
            "2684/2684 [==============================] - 402s 150ms/step - loss: 0.0931 - sparse_categorical_accuracy: 0.9751 - val_loss: 0.0911 - val_sparse_categorical_accuracy: 0.9778\n",
            "Epoch 5/7\n",
            "2684/2684 [==============================] - 400s 149ms/step - loss: 0.0757 - sparse_categorical_accuracy: 0.9801 - val_loss: 0.0910 - val_sparse_categorical_accuracy: 0.9778\n",
            "Epoch 6/7\n",
            "2684/2684 [==============================] - 401s 149ms/step - loss: 0.0660 - sparse_categorical_accuracy: 0.9822 - val_loss: 0.0771 - val_sparse_categorical_accuracy: 0.9812\n",
            "Epoch 7/7\n",
            "2684/2684 [==============================] - 402s 150ms/step - loss: 0.0602 - sparse_categorical_accuracy: 0.9842 - val_loss: 0.0781 - val_sparse_categorical_accuracy: 0.9818\n",
            "(171756, 512) (687021, 512) (171756,) (687021,)\n",
            "Epoch 1/7\n",
            "2684/2684 [==============================] - 437s 158ms/step - loss: 1.3790 - sparse_categorical_accuracy: 0.5910 - val_loss: 0.1351 - val_sparse_categorical_accuracy: 0.9648\n",
            "Epoch 2/7\n",
            "2684/2684 [==============================] - 405s 151ms/step - loss: 0.1829 - sparse_categorical_accuracy: 0.9497 - val_loss: 0.1046 - val_sparse_categorical_accuracy: 0.9740\n",
            "Epoch 3/7\n",
            "2684/2684 [==============================] - 403s 150ms/step - loss: 0.1214 - sparse_categorical_accuracy: 0.9670 - val_loss: 0.0931 - val_sparse_categorical_accuracy: 0.9763\n",
            "Epoch 4/7\n",
            "2684/2684 [==============================] - 406s 151ms/step - loss: 0.0937 - sparse_categorical_accuracy: 0.9742 - val_loss: 0.0847 - val_sparse_categorical_accuracy: 0.9787\n",
            "Epoch 5/7\n",
            "2684/2684 [==============================] - 409s 153ms/step - loss: 0.0779 - sparse_categorical_accuracy: 0.9789 - val_loss: 0.0814 - val_sparse_categorical_accuracy: 0.9798\n",
            "Epoch 6/7\n",
            "2684/2684 [==============================] - 405s 151ms/step - loss: 0.0714 - sparse_categorical_accuracy: 0.9815 - val_loss: 0.0779 - val_sparse_categorical_accuracy: 0.9810\n",
            "Epoch 7/7\n",
            "2684/2684 [==============================] - 404s 151ms/step - loss: 0.0592 - sparse_categorical_accuracy: 0.9843 - val_loss: 0.0802 - val_sparse_categorical_accuracy: 0.9809\n",
            "(171755, 512) (687022, 512) (171755,) (687022,)\n",
            "Epoch 1/7\n",
            "2684/2684 [==============================] - 439s 159ms/step - loss: 1.2853 - sparse_categorical_accuracy: 0.6209 - val_loss: 0.1431 - val_sparse_categorical_accuracy: 0.9652\n",
            "Epoch 2/7\n",
            "2684/2684 [==============================] - 407s 152ms/step - loss: 0.1643 - sparse_categorical_accuracy: 0.9569 - val_loss: 0.1273 - val_sparse_categorical_accuracy: 0.9692\n",
            "Epoch 3/7\n",
            "2684/2684 [==============================] - 405s 151ms/step - loss: 0.1089 - sparse_categorical_accuracy: 0.9700 - val_loss: 0.0947 - val_sparse_categorical_accuracy: 0.9763\n",
            "Epoch 4/7\n",
            "2684/2684 [==============================] - 407s 152ms/step - loss: 0.0866 - sparse_categorical_accuracy: 0.9769 - val_loss: 0.0869 - val_sparse_categorical_accuracy: 0.9794\n",
            "Epoch 5/7\n",
            "2684/2684 [==============================] - 406s 151ms/step - loss: 0.0706 - sparse_categorical_accuracy: 0.9815 - val_loss: 0.0817 - val_sparse_categorical_accuracy: 0.9795\n",
            "Epoch 6/7\n",
            "2684/2684 [==============================] - 407s 152ms/step - loss: 0.0624 - sparse_categorical_accuracy: 0.9836 - val_loss: 0.0830 - val_sparse_categorical_accuracy: 0.9801\n",
            "Epoch 7/7\n",
            "2684/2684 [==============================] - 407s 152ms/step - loss: 0.0565 - sparse_categorical_accuracy: 0.9851 - val_loss: 0.0819 - val_sparse_categorical_accuracy: 0.9809\n",
            "(171755, 512) (687022, 512) (171755,) (687022,)\n",
            "Epoch 1/7\n",
            "2684/2684 [==============================] - 437s 158ms/step - loss: 1.2704 - sparse_categorical_accuracy: 0.6192 - val_loss: 0.1239 - val_sparse_categorical_accuracy: 0.9691\n",
            "Epoch 2/7\n",
            "2684/2684 [==============================] - 405s 151ms/step - loss: 0.1746 - sparse_categorical_accuracy: 0.9539 - val_loss: 0.1163 - val_sparse_categorical_accuracy: 0.9696\n",
            "Epoch 3/7\n",
            "2684/2684 [==============================] - 405s 151ms/step - loss: 0.1150 - sparse_categorical_accuracy: 0.9686 - val_loss: 0.0865 - val_sparse_categorical_accuracy: 0.9783\n",
            "Epoch 4/7\n",
            "2684/2684 [==============================] - 406s 151ms/step - loss: 0.0873 - sparse_categorical_accuracy: 0.9766 - val_loss: 0.0825 - val_sparse_categorical_accuracy: 0.9796\n",
            "Epoch 5/7\n",
            "2684/2684 [==============================] - 406s 151ms/step - loss: 0.0747 - sparse_categorical_accuracy: 0.9802 - val_loss: 0.0774 - val_sparse_categorical_accuracy: 0.9806\n",
            "Epoch 6/7\n",
            "2684/2684 [==============================] - 405s 151ms/step - loss: 0.0687 - sparse_categorical_accuracy: 0.9825 - val_loss: 0.0865 - val_sparse_categorical_accuracy: 0.9790\n",
            "Epoch 7/7\n",
            "2684/2684 [==============================] - 405s 151ms/step - loss: 0.0607 - sparse_categorical_accuracy: 0.9842 - val_loss: 0.1022 - val_sparse_categorical_accuracy: 0.9784\n",
            "(171755, 512) (687022, 512) (171755,) (687022,)\n",
            "Epoch 1/7\n",
            "2684/2684 [==============================] - 440s 159ms/step - loss: 1.3202 - sparse_categorical_accuracy: 0.6065 - val_loss: 0.1305 - val_sparse_categorical_accuracy: 0.9657\n",
            "Epoch 2/7\n",
            "2684/2684 [==============================] - 408s 152ms/step - loss: 0.1834 - sparse_categorical_accuracy: 0.9507 - val_loss: 0.0962 - val_sparse_categorical_accuracy: 0.9754\n",
            "Epoch 3/7\n",
            "2684/2684 [==============================] - 407s 152ms/step - loss: 0.1217 - sparse_categorical_accuracy: 0.9671 - val_loss: 0.0945 - val_sparse_categorical_accuracy: 0.9759\n",
            "Epoch 4/7\n",
            "2684/2684 [==============================] - 408s 152ms/step - loss: 0.0943 - sparse_categorical_accuracy: 0.9747 - val_loss: 0.0873 - val_sparse_categorical_accuracy: 0.9774\n",
            "Epoch 5/7\n",
            "2684/2684 [==============================] - 407s 152ms/step - loss: 0.0789 - sparse_categorical_accuracy: 0.9787 - val_loss: 0.0816 - val_sparse_categorical_accuracy: 0.9800\n",
            "Epoch 6/7\n",
            "2684/2684 [==============================] - 407s 152ms/step - loss: 0.0643 - sparse_categorical_accuracy: 0.9825 - val_loss: 0.0804 - val_sparse_categorical_accuracy: 0.9818\n",
            "Epoch 7/7\n",
            "2684/2684 [==============================] - 408s 152ms/step - loss: 0.0623 - sparse_categorical_accuracy: 0.9840 - val_loss: 0.0856 - val_sparse_categorical_accuracy: 0.9807\n"
          ],
          "name": "stdout"
        }
      ]
    }
  ]
}